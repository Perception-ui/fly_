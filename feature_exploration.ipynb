{
 "cells": [
  {
   "cell_type": "markdown",
   "metadata": {},
   "source": [
    "## A dive into the data"
   ]
  },
  {
   "cell_type": "code",
   "execution_count": 1,
   "metadata": {},
   "outputs": [],
   "source": [
    "import pandas as pd\n",
    "import numpy as np\n",
    "import matplotlib.pyplot as plt\n",
    "from sklearn.cluster import KMeans\n",
    "import seaborn as sns"
   ]
  },
  {
   "cell_type": "code",
   "execution_count": 2,
   "metadata": {},
   "outputs": [
    {
     "data": {
      "text/html": [
       "<div>\n",
       "<style scoped>\n",
       "    .dataframe tbody tr th:only-of-type {\n",
       "        vertical-align: middle;\n",
       "    }\n",
       "\n",
       "    .dataframe tbody tr th {\n",
       "        vertical-align: top;\n",
       "    }\n",
       "\n",
       "    .dataframe thead th {\n",
       "        text-align: right;\n",
       "    }\n",
       "</style>\n",
       "<table border=\"1\" class=\"dataframe\">\n",
       "  <thead>\n",
       "    <tr style=\"text-align: right;\">\n",
       "      <th></th>\n",
       "      <th>num_passengers</th>\n",
       "      <th>sales_channel</th>\n",
       "      <th>trip_type</th>\n",
       "      <th>purchase_lead</th>\n",
       "      <th>length_of_stay</th>\n",
       "      <th>flight_hour</th>\n",
       "      <th>flight_day</th>\n",
       "      <th>route</th>\n",
       "      <th>booking_origin</th>\n",
       "      <th>wants_extra_baggage</th>\n",
       "      <th>wants_preferred_seat</th>\n",
       "      <th>wants_in_flight_meals</th>\n",
       "      <th>flight_duration</th>\n",
       "      <th>booking_complete</th>\n",
       "    </tr>\n",
       "  </thead>\n",
       "  <tbody>\n",
       "    <tr>\n",
       "      <th>0</th>\n",
       "      <td>2</td>\n",
       "      <td>Internet</td>\n",
       "      <td>RoundTrip</td>\n",
       "      <td>262</td>\n",
       "      <td>19</td>\n",
       "      <td>7</td>\n",
       "      <td>Sat</td>\n",
       "      <td>AKLDEL</td>\n",
       "      <td>New Zealand</td>\n",
       "      <td>1</td>\n",
       "      <td>0</td>\n",
       "      <td>0</td>\n",
       "      <td>5.52</td>\n",
       "      <td>0</td>\n",
       "    </tr>\n",
       "    <tr>\n",
       "      <th>1</th>\n",
       "      <td>1</td>\n",
       "      <td>Internet</td>\n",
       "      <td>RoundTrip</td>\n",
       "      <td>112</td>\n",
       "      <td>20</td>\n",
       "      <td>3</td>\n",
       "      <td>Sat</td>\n",
       "      <td>AKLDEL</td>\n",
       "      <td>New Zealand</td>\n",
       "      <td>0</td>\n",
       "      <td>0</td>\n",
       "      <td>0</td>\n",
       "      <td>5.52</td>\n",
       "      <td>0</td>\n",
       "    </tr>\n",
       "    <tr>\n",
       "      <th>2</th>\n",
       "      <td>2</td>\n",
       "      <td>Internet</td>\n",
       "      <td>RoundTrip</td>\n",
       "      <td>243</td>\n",
       "      <td>22</td>\n",
       "      <td>17</td>\n",
       "      <td>Wed</td>\n",
       "      <td>AKLDEL</td>\n",
       "      <td>India</td>\n",
       "      <td>1</td>\n",
       "      <td>1</td>\n",
       "      <td>0</td>\n",
       "      <td>5.52</td>\n",
       "      <td>0</td>\n",
       "    </tr>\n",
       "    <tr>\n",
       "      <th>3</th>\n",
       "      <td>1</td>\n",
       "      <td>Internet</td>\n",
       "      <td>RoundTrip</td>\n",
       "      <td>96</td>\n",
       "      <td>31</td>\n",
       "      <td>4</td>\n",
       "      <td>Sat</td>\n",
       "      <td>AKLDEL</td>\n",
       "      <td>New Zealand</td>\n",
       "      <td>0</td>\n",
       "      <td>0</td>\n",
       "      <td>1</td>\n",
       "      <td>5.52</td>\n",
       "      <td>0</td>\n",
       "    </tr>\n",
       "    <tr>\n",
       "      <th>4</th>\n",
       "      <td>2</td>\n",
       "      <td>Internet</td>\n",
       "      <td>RoundTrip</td>\n",
       "      <td>68</td>\n",
       "      <td>22</td>\n",
       "      <td>15</td>\n",
       "      <td>Wed</td>\n",
       "      <td>AKLDEL</td>\n",
       "      <td>India</td>\n",
       "      <td>1</td>\n",
       "      <td>0</td>\n",
       "      <td>1</td>\n",
       "      <td>5.52</td>\n",
       "      <td>0</td>\n",
       "    </tr>\n",
       "  </tbody>\n",
       "</table>\n",
       "</div>"
      ],
      "text/plain": [
       "   num_passengers sales_channel  trip_type  purchase_lead  length_of_stay  \\\n",
       "0               2      Internet  RoundTrip            262              19   \n",
       "1               1      Internet  RoundTrip            112              20   \n",
       "2               2      Internet  RoundTrip            243              22   \n",
       "3               1      Internet  RoundTrip             96              31   \n",
       "4               2      Internet  RoundTrip             68              22   \n",
       "\n",
       "   flight_hour flight_day   route booking_origin  wants_extra_baggage  \\\n",
       "0            7        Sat  AKLDEL    New Zealand                    1   \n",
       "1            3        Sat  AKLDEL    New Zealand                    0   \n",
       "2           17        Wed  AKLDEL          India                    1   \n",
       "3            4        Sat  AKLDEL    New Zealand                    0   \n",
       "4           15        Wed  AKLDEL          India                    1   \n",
       "\n",
       "   wants_preferred_seat  wants_in_flight_meals  flight_duration  \\\n",
       "0                     0                      0             5.52   \n",
       "1                     0                      0             5.52   \n",
       "2                     1                      0             5.52   \n",
       "3                     0                      1             5.52   \n",
       "4                     0                      1             5.52   \n",
       "\n",
       "   booking_complete  \n",
       "0                 0  \n",
       "1                 0  \n",
       "2                 0  \n",
       "3                 0  \n",
       "4                 0  "
      ]
     },
     "execution_count": 2,
     "metadata": {},
     "output_type": "execute_result"
    }
   ],
   "source": [
    "df = pd.read_csv('customer_booking.csv', encoding='latin-1')\n",
    "df.head()"
   ]
  },
  {
   "cell_type": "markdown",
   "metadata": {},
   "source": [
    "Convert binary columns from int to bool"
   ]
  },
  {
   "cell_type": "code",
   "execution_count": 3,
   "metadata": {},
   "outputs": [],
   "source": [
    "bool_cols = ['wants_extra_baggage', 'wants_preferred_seat', 'wants_in_flight_meals', 'booking_complete']\n",
    "df[bool_cols] = df[bool_cols].astype('bool')"
   ]
  },
  {
   "cell_type": "code",
   "execution_count": 4,
   "metadata": {},
   "outputs": [
    {
     "name": "stdout",
     "output_type": "stream",
     "text": [
      "<class 'pandas.core.frame.DataFrame'>\n",
      "RangeIndex: 50000 entries, 0 to 49999\n",
      "Data columns (total 14 columns):\n",
      " #   Column                 Non-Null Count  Dtype  \n",
      "---  ------                 --------------  -----  \n",
      " 0   num_passengers         50000 non-null  int64  \n",
      " 1   sales_channel          50000 non-null  object \n",
      " 2   trip_type              50000 non-null  object \n",
      " 3   purchase_lead          50000 non-null  int64  \n",
      " 4   length_of_stay         50000 non-null  int64  \n",
      " 5   flight_hour            50000 non-null  int64  \n",
      " 6   flight_day             50000 non-null  object \n",
      " 7   route                  50000 non-null  object \n",
      " 8   booking_origin         50000 non-null  object \n",
      " 9   wants_extra_baggage    50000 non-null  bool   \n",
      " 10  wants_preferred_seat   50000 non-null  bool   \n",
      " 11  wants_in_flight_meals  50000 non-null  bool   \n",
      " 12  flight_duration        50000 non-null  float64\n",
      " 13  booking_complete       50000 non-null  bool   \n",
      "dtypes: bool(4), float64(1), int64(4), object(5)\n",
      "memory usage: 4.0+ MB\n"
     ]
    }
   ],
   "source": [
    "df.info()"
   ]
  },
  {
   "cell_type": "code",
   "execution_count": 5,
   "metadata": {},
   "outputs": [
    {
     "data": {
      "text/plain": [
       "15102    8.58\n",
       "47160    6.62\n",
       "8256     8.83\n",
       "44492    6.62\n",
       "39350    6.62\n",
       "Name: flight_duration, dtype: float64"
      ]
     },
     "execution_count": 5,
     "metadata": {},
     "output_type": "execute_result"
    }
   ],
   "source": [
    "df['flight_duration'].sample(5)"
   ]
  },
  {
   "cell_type": "code",
   "execution_count": 6,
   "metadata": {},
   "outputs": [
    {
     "data": {
      "text/html": [
       "<div>\n",
       "<style scoped>\n",
       "    .dataframe tbody tr th:only-of-type {\n",
       "        vertical-align: middle;\n",
       "    }\n",
       "\n",
       "    .dataframe tbody tr th {\n",
       "        vertical-align: top;\n",
       "    }\n",
       "\n",
       "    .dataframe thead th {\n",
       "        text-align: right;\n",
       "    }\n",
       "</style>\n",
       "<table border=\"1\" class=\"dataframe\">\n",
       "  <thead>\n",
       "    <tr style=\"text-align: right;\">\n",
       "      <th></th>\n",
       "      <th>num_passengers</th>\n",
       "      <th>sales_channel</th>\n",
       "      <th>trip_type</th>\n",
       "      <th>purchase_lead</th>\n",
       "      <th>length_of_stay</th>\n",
       "      <th>flight_hour</th>\n",
       "      <th>flight_day</th>\n",
       "      <th>route</th>\n",
       "      <th>booking_origin</th>\n",
       "      <th>wants_extra_baggage</th>\n",
       "      <th>wants_preferred_seat</th>\n",
       "      <th>wants_in_flight_meals</th>\n",
       "      <th>flight_duration</th>\n",
       "      <th>booking_complete</th>\n",
       "    </tr>\n",
       "  </thead>\n",
       "  <tbody>\n",
       "    <tr>\n",
       "      <th>0</th>\n",
       "      <td>2</td>\n",
       "      <td>Internet</td>\n",
       "      <td>RoundTrip</td>\n",
       "      <td>262</td>\n",
       "      <td>19</td>\n",
       "      <td>7</td>\n",
       "      <td>Sat</td>\n",
       "      <td>AKLDEL</td>\n",
       "      <td>New Zealand</td>\n",
       "      <td>True</td>\n",
       "      <td>False</td>\n",
       "      <td>False</td>\n",
       "      <td>5.52</td>\n",
       "      <td>False</td>\n",
       "    </tr>\n",
       "    <tr>\n",
       "      <th>1</th>\n",
       "      <td>1</td>\n",
       "      <td>Internet</td>\n",
       "      <td>RoundTrip</td>\n",
       "      <td>112</td>\n",
       "      <td>20</td>\n",
       "      <td>3</td>\n",
       "      <td>Sat</td>\n",
       "      <td>AKLDEL</td>\n",
       "      <td>New Zealand</td>\n",
       "      <td>False</td>\n",
       "      <td>False</td>\n",
       "      <td>False</td>\n",
       "      <td>5.52</td>\n",
       "      <td>False</td>\n",
       "    </tr>\n",
       "    <tr>\n",
       "      <th>2</th>\n",
       "      <td>2</td>\n",
       "      <td>Internet</td>\n",
       "      <td>RoundTrip</td>\n",
       "      <td>243</td>\n",
       "      <td>22</td>\n",
       "      <td>17</td>\n",
       "      <td>Wed</td>\n",
       "      <td>AKLDEL</td>\n",
       "      <td>India</td>\n",
       "      <td>True</td>\n",
       "      <td>True</td>\n",
       "      <td>False</td>\n",
       "      <td>5.52</td>\n",
       "      <td>False</td>\n",
       "    </tr>\n",
       "    <tr>\n",
       "      <th>3</th>\n",
       "      <td>1</td>\n",
       "      <td>Internet</td>\n",
       "      <td>RoundTrip</td>\n",
       "      <td>96</td>\n",
       "      <td>31</td>\n",
       "      <td>4</td>\n",
       "      <td>Sat</td>\n",
       "      <td>AKLDEL</td>\n",
       "      <td>New Zealand</td>\n",
       "      <td>False</td>\n",
       "      <td>False</td>\n",
       "      <td>True</td>\n",
       "      <td>5.52</td>\n",
       "      <td>False</td>\n",
       "    </tr>\n",
       "    <tr>\n",
       "      <th>4</th>\n",
       "      <td>2</td>\n",
       "      <td>Internet</td>\n",
       "      <td>RoundTrip</td>\n",
       "      <td>68</td>\n",
       "      <td>22</td>\n",
       "      <td>15</td>\n",
       "      <td>Wed</td>\n",
       "      <td>AKLDEL</td>\n",
       "      <td>India</td>\n",
       "      <td>True</td>\n",
       "      <td>False</td>\n",
       "      <td>True</td>\n",
       "      <td>5.52</td>\n",
       "      <td>False</td>\n",
       "    </tr>\n",
       "  </tbody>\n",
       "</table>\n",
       "</div>"
      ],
      "text/plain": [
       "   num_passengers sales_channel  trip_type  purchase_lead  length_of_stay  \\\n",
       "0               2      Internet  RoundTrip            262              19   \n",
       "1               1      Internet  RoundTrip            112              20   \n",
       "2               2      Internet  RoundTrip            243              22   \n",
       "3               1      Internet  RoundTrip             96              31   \n",
       "4               2      Internet  RoundTrip             68              22   \n",
       "\n",
       "   flight_hour flight_day   route booking_origin  wants_extra_baggage  \\\n",
       "0            7        Sat  AKLDEL    New Zealand                 True   \n",
       "1            3        Sat  AKLDEL    New Zealand                False   \n",
       "2           17        Wed  AKLDEL          India                 True   \n",
       "3            4        Sat  AKLDEL    New Zealand                False   \n",
       "4           15        Wed  AKLDEL          India                 True   \n",
       "\n",
       "   wants_preferred_seat  wants_in_flight_meals  flight_duration  \\\n",
       "0                 False                  False             5.52   \n",
       "1                 False                  False             5.52   \n",
       "2                  True                  False             5.52   \n",
       "3                 False                   True             5.52   \n",
       "4                 False                   True             5.52   \n",
       "\n",
       "   booking_complete  \n",
       "0             False  \n",
       "1             False  \n",
       "2             False  \n",
       "3             False  \n",
       "4             False  "
      ]
     },
     "execution_count": 6,
     "metadata": {},
     "output_type": "execute_result"
    }
   ],
   "source": [
    "df.head()"
   ]
  },
  {
   "cell_type": "code",
   "execution_count": 7,
   "metadata": {},
   "outputs": [
    {
     "name": "stdout",
     "output_type": "stream",
     "text": [
      "Number of unique elements in 'sales_channel': 2\n",
      "Number of unique elements in 'trip_type': 3\n",
      "Number of unique elements in 'flight_day': 7\n",
      "Number of unique elements in 'route': 799\n",
      "Number of unique elements in 'booking_origin': 104\n"
     ]
    }
   ],
   "source": [
    "# Selecting only columns with object data type\n",
    "categorical_columns = df.select_dtypes(include=['object']).columns\n",
    "\n",
    "# Looping through each categorical column to find unique elements\n",
    "for column in categorical_columns:\n",
    "    unique_elements = df[column].nunique()\n",
    "    print(f\"Number of unique elements in '{column}': {unique_elements}\")"
   ]
  },
  {
   "cell_type": "code",
   "execution_count": 8,
   "metadata": {},
   "outputs": [
    {
     "name": "stdout",
     "output_type": "stream",
     "text": [
      "Unique elements in 'sales_channel': ['Internet' 'Mobile']\n",
      "Unique elements in 'trip_type': ['RoundTrip' 'CircleTrip' 'OneWay']\n",
      "Unique elements in 'flight_day': ['Sat' 'Wed' 'Thu' 'Mon' 'Sun' 'Tue' 'Fri']\n"
     ]
    }
   ],
   "source": [
    "# Print unique elements of categorical variables with less than 5 unique features\n",
    "for column in df.select_dtypes(include=['object']).columns:\n",
    "    unique_count = df[column].nunique()\n",
    "    if unique_count < 10:\n",
    "        print(f\"Unique elements in '{column}': {df[column].unique()}\")"
   ]
  },
  {
   "cell_type": "code",
   "execution_count": 9,
   "metadata": {},
   "outputs": [
    {
     "data": {
      "text/plain": [
       "20785      Australia\n",
       "24285    South Korea\n",
       "48559      Australia\n",
       "16992      Indonesia\n",
       "43209      Indonesia\n",
       "Name: booking_origin, dtype: object"
      ]
     },
     "execution_count": 9,
     "metadata": {},
     "output_type": "execute_result"
    }
   ],
   "source": [
    "df['booking_origin'].sample(5)"
   ]
  },
  {
   "cell_type": "code",
   "execution_count": 10,
   "metadata": {},
   "outputs": [
    {
     "data": {
      "text/plain": [
       "38699    HNDKNO\n",
       "43837    CTSDMK\n",
       "43728    COKMEL\n",
       "45968    HGHLGK\n",
       "42328    AKLKUL\n",
       "Name: route, dtype: object"
      ]
     },
     "execution_count": 10,
     "metadata": {},
     "output_type": "execute_result"
    }
   ],
   "source": [
    "df['route'].sample(5)"
   ]
  },
  {
   "cell_type": "code",
   "execution_count": 11,
   "metadata": {},
   "outputs": [
    {
     "data": {
      "text/plain": [
       "28900     97\n",
       "2633      47\n",
       "870      110\n",
       "38295    183\n",
       "7847       7\n",
       "11802    159\n",
       "24102     42\n",
       "Name: purchase_lead, dtype: int64"
      ]
     },
     "execution_count": 11,
     "metadata": {},
     "output_type": "execute_result"
    }
   ],
   "source": [
    "df['purchase_lead'].sample(7)"
   ]
  },
  {
   "cell_type": "code",
   "execution_count": 12,
   "metadata": {},
   "outputs": [
    {
     "data": {
      "text/plain": [
       "30216    6.62\n",
       "49834    4.67\n",
       "5268     5.62\n",
       "7738     8.83\n",
       "40614    4.67\n",
       "Name: flight_duration, dtype: float64"
      ]
     },
     "execution_count": 12,
     "metadata": {},
     "output_type": "execute_result"
    }
   ],
   "source": [
    "df['flight_duration'].sample(5)"
   ]
  },
  {
   "cell_type": "code",
   "execution_count": 13,
   "metadata": {},
   "outputs": [
    {
     "name": "stdout",
     "output_type": "stream",
     "text": [
      "count    50000.000000\n",
      "mean         7.277561\n",
      "std          1.496863\n",
      "min          4.670000\n",
      "25%          5.620000\n",
      "50%          7.570000\n",
      "75%          8.830000\n",
      "max          9.500000\n",
      "Name: flight_duration, dtype: float64\n",
      "Unique flight duration values: [4.67, 4.72, 4.75, 4.83, 5.0, 5.07, 5.13, 5.33, 5.52, 5.62, 6.33, 6.42, 6.62, 7.0, 7.42, 7.57, 8.15, 8.58, 8.67, 8.83, 9.5]\n"
     ]
    }
   ],
   "source": [
    "# Descriptive statistics of flight_duration column\n",
    "flight_duration_stats = df['flight_duration'].describe()\n",
    "\n",
    "# Print descriptive statistics\n",
    "print(flight_duration_stats)\n",
    "\n",
    "# Check the distribution of flight_duration values\n",
    "flight_duration_values = df['flight_duration'].unique()\n",
    "\n",
    "# Sort and print unique values\n",
    "flight_duration_values_sorted = sorted(flight_duration_values)\n",
    "print(f\"Unique flight duration values: {flight_duration_values_sorted}\")"
   ]
  },
  {
   "cell_type": "markdown",
   "metadata": {},
   "source": [
    "Convert days into hours for `purchase_lead` and `length of stay`"
   ]
  },
  {
   "cell_type": "code",
   "execution_count": 14,
   "metadata": {},
   "outputs": [
    {
     "name": "stdout",
     "output_type": "stream",
     "text": [
      "   num_passengers sales_channel  trip_type  flight_hour flight_day   route  \\\n",
      "0               2      Internet  RoundTrip            7        Sat  AKLDEL   \n",
      "1               1      Internet  RoundTrip            3        Sat  AKLDEL   \n",
      "2               2      Internet  RoundTrip           17        Wed  AKLDEL   \n",
      "3               1      Internet  RoundTrip            4        Sat  AKLDEL   \n",
      "4               2      Internet  RoundTrip           15        Wed  AKLDEL   \n",
      "\n",
      "  booking_origin  wants_extra_baggage  wants_preferred_seat  \\\n",
      "0    New Zealand                 True                 False   \n",
      "1    New Zealand                False                 False   \n",
      "2          India                 True                  True   \n",
      "3    New Zealand                False                 False   \n",
      "4          India                 True                 False   \n",
      "\n",
      "   wants_in_flight_meals  flight_duration  booking_complete  \\\n",
      "0                  False             5.52             False   \n",
      "1                  False             5.52             False   \n",
      "2                  False             5.52             False   \n",
      "3                   True             5.52             False   \n",
      "4                   True             5.52             False   \n",
      "\n",
      "   purchase_lead_hours  length_of_stay_hours  \n",
      "0                 6288                   456  \n",
      "1                 2688                   480  \n",
      "2                 5832                   528  \n",
      "3                 2304                   744  \n",
      "4                 1632                   528  \n"
     ]
    }
   ],
   "source": [
    "# Define conversion factors\n",
    "hours_in_day = 24\n",
    "\n",
    "# Convert time-related columns to hours\n",
    "df['purchase_lead_hours'] = df['purchase_lead'] * hours_in_day\n",
    "df['length_of_stay_hours'] = df['length_of_stay'] * hours_in_day\n",
    "\n",
    "# Drop the original columns\n",
    "df.drop(columns=['purchase_lead', 'length_of_stay'], inplace=True)\n",
    "\n",
    "# Print first few rows to verify the changes\n",
    "print(df.head())"
   ]
  },
  {
   "cell_type": "markdown",
   "metadata": {},
   "source": [
    "Since hours of the day have a cyclical nature, you can encode flight_hour using trigonometric functions like sine and cosine. This transformation can capture the periodicity of time features and prevent issues such as treating 23:00 and 00:00 as far apart. The technique transforms the hour of the day into two continuous variables, which represent the cyclic pattern of time."
   ]
  },
  {
   "cell_type": "code",
   "execution_count": 15,
   "metadata": {},
   "outputs": [
    {
     "name": "stdout",
     "output_type": "stream",
     "text": [
      "   num_passengers sales_channel  trip_type  flight_hour flight_day   route  \\\n",
      "0               2      Internet  RoundTrip            7        Sat  AKLDEL   \n",
      "1               1      Internet  RoundTrip            3        Sat  AKLDEL   \n",
      "2               2      Internet  RoundTrip           17        Wed  AKLDEL   \n",
      "3               1      Internet  RoundTrip            4        Sat  AKLDEL   \n",
      "4               2      Internet  RoundTrip           15        Wed  AKLDEL   \n",
      "\n",
      "  booking_origin  wants_extra_baggage  wants_preferred_seat  \\\n",
      "0    New Zealand                 True                 False   \n",
      "1    New Zealand                False                 False   \n",
      "2          India                 True                  True   \n",
      "3    New Zealand                False                 False   \n",
      "4          India                 True                 False   \n",
      "\n",
      "   wants_in_flight_meals  flight_duration  booking_complete  \\\n",
      "0                  False             5.52             False   \n",
      "1                  False             5.52             False   \n",
      "2                  False             5.52             False   \n",
      "3                   True             5.52             False   \n",
      "4                   True             5.52             False   \n",
      "\n",
      "   purchase_lead_hours  length_of_stay_hours  flight_hour_sin  flight_hour_cos  \n",
      "0                 6288                   456         0.965926        -0.258819  \n",
      "1                 2688                   480         0.707107         0.707107  \n",
      "2                 5832                   528        -0.965926        -0.258819  \n",
      "3                 2304                   744         0.866025         0.500000  \n",
      "4                 1632                   528        -0.707107        -0.707107  \n"
     ]
    }
   ],
   "source": [
    "# Perform periodic encoding for flight_hour\n",
    "df['flight_hour_sin'] = np.sin(2 * np.pi * df['flight_hour'] / hours_in_day)\n",
    "df['flight_hour_cos'] = np.cos(2 * np.pi * df['flight_hour'] / hours_in_day)\n",
    "\n",
    "# Drop the original column\n",
    "# df.drop(columns=['flight_hour'], inplace=True)\n",
    "\n",
    "# Print first few rows to verify the changes\n",
    "print(df.head())"
   ]
  },
  {
   "cell_type": "markdown",
   "metadata": {},
   "source": [
    "Normalize the time-related columns to ensure they're on the same scale."
   ]
  },
  {
   "cell_type": "code",
   "execution_count": 16,
   "metadata": {},
   "outputs": [
    {
     "name": "stdout",
     "output_type": "stream",
     "text": [
      "   num_passengers sales_channel  trip_type  flight_hour flight_day   route  \\\n",
      "0               2      Internet  RoundTrip            7        Sat  AKLDEL   \n",
      "1               1      Internet  RoundTrip            3        Sat  AKLDEL   \n",
      "2               2      Internet  RoundTrip           17        Wed  AKLDEL   \n",
      "3               1      Internet  RoundTrip            4        Sat  AKLDEL   \n",
      "4               2      Internet  RoundTrip           15        Wed  AKLDEL   \n",
      "\n",
      "  booking_origin  wants_extra_baggage  wants_preferred_seat  \\\n",
      "0    New Zealand                 True                 False   \n",
      "1    New Zealand                False                 False   \n",
      "2          India                 True                  True   \n",
      "3    New Zealand                False                 False   \n",
      "4          India                 True                 False   \n",
      "\n",
      "   wants_in_flight_meals  flight_duration  booking_complete  \\\n",
      "0                  False         0.175983             False   \n",
      "1                  False         0.175983             False   \n",
      "2                  False         0.175983             False   \n",
      "3                   True         0.175983             False   \n",
      "4                   True         0.175983             False   \n",
      "\n",
      "   purchase_lead_hours  length_of_stay_hours  flight_hour_sin  flight_hour_cos  \n",
      "0             0.302191              0.024422         0.965926        -0.258819  \n",
      "1             0.129181              0.025707         0.707107         0.707107  \n",
      "2             0.280277              0.028278        -0.965926        -0.258819  \n",
      "3             0.110727              0.039846         0.866025         0.500000  \n",
      "4             0.078431              0.028278        -0.707107        -0.707107  \n"
     ]
    }
   ],
   "source": [
    "from sklearn.preprocessing import MinMaxScaler\n",
    "\n",
    "# Columns to normalize\n",
    "columns_to_normalize = ['purchase_lead_hours', 'length_of_stay_hours', 'flight_duration']\n",
    "\n",
    "# Initialize MinMaxScaler\n",
    "scaler = MinMaxScaler()\n",
    "\n",
    "# Fit and transform the selected columns\n",
    "df[columns_to_normalize] = scaler.fit_transform(df[columns_to_normalize])\n",
    "\n",
    "# Print first few rows to verify the changes\n",
    "print(df.head())\n"
   ]
  },
  {
   "cell_type": "code",
   "execution_count": 17,
   "metadata": {},
   "outputs": [
    {
     "name": "stdout",
     "output_type": "stream",
     "text": [
      "Top 5 most frequent categories in 'booking_origin':\n",
      "booking_origin\n",
      "Australia      17872\n",
      "Malaysia        7174\n",
      "South Korea     4559\n",
      "Japan           3885\n",
      "China           3387\n",
      "Name: count, dtype: int64\n",
      "\n",
      "Top 5 most frequent categories in 'route':\n",
      "route\n",
      "AKLKUL    2680\n",
      "PENTPE     924\n",
      "MELSGN     842\n",
      "ICNSIN     801\n",
      "DMKKIX     744\n",
      "Name: count, dtype: int64\n"
     ]
    }
   ],
   "source": [
    "# Specify the number of top categories to display\n",
    "top_n = 5\n",
    "\n",
    "# Calculate the counts of each category in 'booking_origin'\n",
    "booking_origin_counts = df['booking_origin'].value_counts().head(top_n)\n",
    "\n",
    "# Calculate the counts of each category in 'route'\n",
    "route_counts = df['route'].value_counts().head(top_n)\n",
    "\n",
    "# Display the top N most frequent categories and their counts for 'booking_origin'\n",
    "print(\"Top\", top_n, \"most frequent categories in 'booking_origin':\")\n",
    "print(booking_origin_counts)\n",
    "\n",
    "# Display the top N most frequent categories and their counts for 'route'\n",
    "print(\"\\nTop\", top_n, \"most frequent categories in 'route':\")\n",
    "print(route_counts)\n"
   ]
  },
  {
   "cell_type": "code",
   "execution_count": 18,
   "metadata": {},
   "outputs": [
    {
     "name": "stdout",
     "output_type": "stream",
     "text": [
      "<class 'pandas.core.frame.DataFrame'>\n",
      "RangeIndex: 50000 entries, 0 to 49999\n",
      "Data columns (total 16 columns):\n",
      " #   Column                 Non-Null Count  Dtype  \n",
      "---  ------                 --------------  -----  \n",
      " 0   num_passengers         50000 non-null  int64  \n",
      " 1   sales_channel          50000 non-null  object \n",
      " 2   trip_type              50000 non-null  object \n",
      " 3   flight_hour            50000 non-null  int64  \n",
      " 4   flight_day             50000 non-null  object \n",
      " 5   route                  50000 non-null  object \n",
      " 6   booking_origin         50000 non-null  object \n",
      " 7   wants_extra_baggage    50000 non-null  bool   \n",
      " 8   wants_preferred_seat   50000 non-null  bool   \n",
      " 9   wants_in_flight_meals  50000 non-null  bool   \n",
      " 10  flight_duration        50000 non-null  float64\n",
      " 11  booking_complete       50000 non-null  bool   \n",
      " 12  purchase_lead_hours    50000 non-null  float64\n",
      " 13  length_of_stay_hours   50000 non-null  float64\n",
      " 14  flight_hour_sin        50000 non-null  float64\n",
      " 15  flight_hour_cos        50000 non-null  float64\n",
      "dtypes: bool(4), float64(5), int64(2), object(5)\n",
      "memory usage: 4.8+ MB\n"
     ]
    }
   ],
   "source": [
    "df.info()"
   ]
  },
  {
   "cell_type": "code",
   "execution_count": 19,
   "metadata": {},
   "outputs": [
    {
     "data": {
      "text/html": [
       "<div>\n",
       "<style scoped>\n",
       "    .dataframe tbody tr th:only-of-type {\n",
       "        vertical-align: middle;\n",
       "    }\n",
       "\n",
       "    .dataframe tbody tr th {\n",
       "        vertical-align: top;\n",
       "    }\n",
       "\n",
       "    .dataframe thead th {\n",
       "        text-align: right;\n",
       "    }\n",
       "</style>\n",
       "<table border=\"1\" class=\"dataframe\">\n",
       "  <thead>\n",
       "    <tr style=\"text-align: right;\">\n",
       "      <th></th>\n",
       "      <th>num_passengers</th>\n",
       "      <th>sales_channel</th>\n",
       "      <th>trip_type</th>\n",
       "      <th>flight_hour</th>\n",
       "      <th>flight_day</th>\n",
       "      <th>route</th>\n",
       "      <th>booking_origin</th>\n",
       "      <th>wants_extra_baggage</th>\n",
       "      <th>wants_preferred_seat</th>\n",
       "      <th>wants_in_flight_meals</th>\n",
       "      <th>flight_duration</th>\n",
       "      <th>booking_complete</th>\n",
       "      <th>purchase_lead_hours</th>\n",
       "      <th>length_of_stay_hours</th>\n",
       "      <th>flight_hour_sin</th>\n",
       "      <th>flight_hour_cos</th>\n",
       "    </tr>\n",
       "  </thead>\n",
       "  <tbody>\n",
       "    <tr>\n",
       "      <th>0</th>\n",
       "      <td>2</td>\n",
       "      <td>Internet</td>\n",
       "      <td>RoundTrip</td>\n",
       "      <td>7</td>\n",
       "      <td>Sat</td>\n",
       "      <td>AKLDEL</td>\n",
       "      <td>New Zealand</td>\n",
       "      <td>True</td>\n",
       "      <td>False</td>\n",
       "      <td>False</td>\n",
       "      <td>0.175983</td>\n",
       "      <td>False</td>\n",
       "      <td>0.302191</td>\n",
       "      <td>0.024422</td>\n",
       "      <td>0.965926</td>\n",
       "      <td>-0.258819</td>\n",
       "    </tr>\n",
       "    <tr>\n",
       "      <th>1</th>\n",
       "      <td>1</td>\n",
       "      <td>Internet</td>\n",
       "      <td>RoundTrip</td>\n",
       "      <td>3</td>\n",
       "      <td>Sat</td>\n",
       "      <td>AKLDEL</td>\n",
       "      <td>New Zealand</td>\n",
       "      <td>False</td>\n",
       "      <td>False</td>\n",
       "      <td>False</td>\n",
       "      <td>0.175983</td>\n",
       "      <td>False</td>\n",
       "      <td>0.129181</td>\n",
       "      <td>0.025707</td>\n",
       "      <td>0.707107</td>\n",
       "      <td>0.707107</td>\n",
       "    </tr>\n",
       "    <tr>\n",
       "      <th>2</th>\n",
       "      <td>2</td>\n",
       "      <td>Internet</td>\n",
       "      <td>RoundTrip</td>\n",
       "      <td>17</td>\n",
       "      <td>Wed</td>\n",
       "      <td>AKLDEL</td>\n",
       "      <td>India</td>\n",
       "      <td>True</td>\n",
       "      <td>True</td>\n",
       "      <td>False</td>\n",
       "      <td>0.175983</td>\n",
       "      <td>False</td>\n",
       "      <td>0.280277</td>\n",
       "      <td>0.028278</td>\n",
       "      <td>-0.965926</td>\n",
       "      <td>-0.258819</td>\n",
       "    </tr>\n",
       "    <tr>\n",
       "      <th>3</th>\n",
       "      <td>1</td>\n",
       "      <td>Internet</td>\n",
       "      <td>RoundTrip</td>\n",
       "      <td>4</td>\n",
       "      <td>Sat</td>\n",
       "      <td>AKLDEL</td>\n",
       "      <td>New Zealand</td>\n",
       "      <td>False</td>\n",
       "      <td>False</td>\n",
       "      <td>True</td>\n",
       "      <td>0.175983</td>\n",
       "      <td>False</td>\n",
       "      <td>0.110727</td>\n",
       "      <td>0.039846</td>\n",
       "      <td>0.866025</td>\n",
       "      <td>0.500000</td>\n",
       "    </tr>\n",
       "    <tr>\n",
       "      <th>4</th>\n",
       "      <td>2</td>\n",
       "      <td>Internet</td>\n",
       "      <td>RoundTrip</td>\n",
       "      <td>15</td>\n",
       "      <td>Wed</td>\n",
       "      <td>AKLDEL</td>\n",
       "      <td>India</td>\n",
       "      <td>True</td>\n",
       "      <td>False</td>\n",
       "      <td>True</td>\n",
       "      <td>0.175983</td>\n",
       "      <td>False</td>\n",
       "      <td>0.078431</td>\n",
       "      <td>0.028278</td>\n",
       "      <td>-0.707107</td>\n",
       "      <td>-0.707107</td>\n",
       "    </tr>\n",
       "  </tbody>\n",
       "</table>\n",
       "</div>"
      ],
      "text/plain": [
       "   num_passengers sales_channel  trip_type  flight_hour flight_day   route  \\\n",
       "0               2      Internet  RoundTrip            7        Sat  AKLDEL   \n",
       "1               1      Internet  RoundTrip            3        Sat  AKLDEL   \n",
       "2               2      Internet  RoundTrip           17        Wed  AKLDEL   \n",
       "3               1      Internet  RoundTrip            4        Sat  AKLDEL   \n",
       "4               2      Internet  RoundTrip           15        Wed  AKLDEL   \n",
       "\n",
       "  booking_origin  wants_extra_baggage  wants_preferred_seat  \\\n",
       "0    New Zealand                 True                 False   \n",
       "1    New Zealand                False                 False   \n",
       "2          India                 True                  True   \n",
       "3    New Zealand                False                 False   \n",
       "4          India                 True                 False   \n",
       "\n",
       "   wants_in_flight_meals  flight_duration  booking_complete  \\\n",
       "0                  False         0.175983             False   \n",
       "1                  False         0.175983             False   \n",
       "2                  False         0.175983             False   \n",
       "3                   True         0.175983             False   \n",
       "4                   True         0.175983             False   \n",
       "\n",
       "   purchase_lead_hours  length_of_stay_hours  flight_hour_sin  flight_hour_cos  \n",
       "0             0.302191              0.024422         0.965926        -0.258819  \n",
       "1             0.129181              0.025707         0.707107         0.707107  \n",
       "2             0.280277              0.028278        -0.965926        -0.258819  \n",
       "3             0.110727              0.039846         0.866025         0.500000  \n",
       "4             0.078431              0.028278        -0.707107        -0.707107  "
      ]
     },
     "execution_count": 19,
     "metadata": {},
     "output_type": "execute_result"
    }
   ],
   "source": [
    "df.head()"
   ]
  },
  {
   "cell_type": "markdown",
   "metadata": {},
   "source": [
    "##   FEATURE COMBINATION"
   ]
  },
  {
   "cell_type": "markdown",
   "metadata": {},
   "source": [
    "Create interaction features by combining related variables. For example, we can create features like \"wants_extra_baggage_and_preferred_seat\" or \"wants_meals_and_preferred_seat\" to capture combinations of customer preferences. simply multiply the boolean columns representing individual preferences. This will result in a new binary column where a value of 1 indicates that both preferences are true, and a value of 0 indicates that at least one preference is false."
   ]
  },
  {
   "cell_type": "code",
   "execution_count": 20,
   "metadata": {},
   "outputs": [],
   "source": [
    "# Create new features for combinations of customer preferences\n",
    "df['wants_extra_baggage_and_preferred_seat'] = df['wants_extra_baggage'] & df['wants_preferred_seat']\n",
    "df['wants_meals_and_preferred_seat'] = df['wants_in_flight_meals'] & df['wants_preferred_seat']\n",
    "df['wants_extra_baggage_and_meals'] = df['wants_extra_baggage'] & df['wants_in_flight_meals']\n",
    "df['wants_all_services'] = df['wants_extra_baggage'] & df['wants_preferred_seat'] & df['wants_in_flight_meals']\n",
    "df['wants_seat_and_meals_but_no_baggage'] = (df['wants_preferred_seat'] & df['wants_in_flight_meals']) & ~df['wants_extra_baggage']\n",
    "df['wants_baggage_and_meals_but_no_seat'] = (df['wants_extra_baggage'] & df['wants_in_flight_meals']) & ~df['wants_preferred_seat']\n",
    "df['wants_baggage_and_seat_but_no_meals'] = (df['wants_extra_baggage'] & df['wants_preferred_seat']) & ~df['wants_in_flight_meals']\n"
   ]
  },
  {
   "cell_type": "code",
   "execution_count": 21,
   "metadata": {},
   "outputs": [
    {
     "name": "stdout",
     "output_type": "stream",
     "text": [
      "   num_passengers sales_channel  trip_type  flight_hour flight_day   route  \\\n",
      "0               2      Internet  RoundTrip            7        Sat  AKLDEL   \n",
      "1               1      Internet  RoundTrip            3        Sat  AKLDEL   \n",
      "2               2      Internet  RoundTrip           17        Wed  AKLDEL   \n",
      "3               1      Internet  RoundTrip            4        Sat  AKLDEL   \n",
      "4               2      Internet  RoundTrip           15        Wed  AKLDEL   \n",
      "\n",
      "  booking_origin  wants_extra_baggage  wants_preferred_seat  \\\n",
      "0    New Zealand                 True                 False   \n",
      "1    New Zealand                False                 False   \n",
      "2          India                 True                  True   \n",
      "3    New Zealand                False                 False   \n",
      "4          India                 True                 False   \n",
      "\n",
      "   wants_in_flight_meals  ...  length_of_stay_hours  flight_hour_sin  \\\n",
      "0                  False  ...              0.024422         0.965926   \n",
      "1                  False  ...              0.025707         0.707107   \n",
      "2                  False  ...              0.028278        -0.965926   \n",
      "3                   True  ...              0.039846         0.866025   \n",
      "4                   True  ...              0.028278        -0.707107   \n",
      "\n",
      "   flight_hour_cos  wants_extra_baggage_and_preferred_seat  \\\n",
      "0        -0.258819                                   False   \n",
      "1         0.707107                                   False   \n",
      "2        -0.258819                                    True   \n",
      "3         0.500000                                   False   \n",
      "4        -0.707107                                   False   \n",
      "\n",
      "   wants_meals_and_preferred_seat  wants_extra_baggage_and_meals  \\\n",
      "0                           False                          False   \n",
      "1                           False                          False   \n",
      "2                           False                          False   \n",
      "3                           False                          False   \n",
      "4                           False                           True   \n",
      "\n",
      "   wants_all_services  wants_seat_and_meals_but_no_baggage  \\\n",
      "0               False                                False   \n",
      "1               False                                False   \n",
      "2               False                                False   \n",
      "3               False                                False   \n",
      "4               False                                False   \n",
      "\n",
      "   wants_baggage_and_meals_but_no_seat  wants_baggage_and_seat_but_no_meals  \n",
      "0                                False                                False  \n",
      "1                                False                                False  \n",
      "2                                False                                 True  \n",
      "3                                False                                False  \n",
      "4                                 True                                False  \n",
      "\n",
      "[5 rows x 23 columns]\n"
     ]
    }
   ],
   "source": [
    "print(df.head())"
   ]
  },
  {
   "cell_type": "markdown",
   "metadata": {},
   "source": [
    "define and map `flight_day`"
   ]
  },
  {
   "cell_type": "code",
   "execution_count": 22,
   "metadata": {},
   "outputs": [
    {
     "name": "stdout",
     "output_type": "stream",
     "text": [
      "      flight_day  flight_day_encoded\n",
      "23272        Sun                 7.0\n",
      "27039        Thu                 4.0\n",
      "1033         Sun                 7.0\n",
      "11896        Thu                 4.0\n",
      "14265        Fri                 5.0\n",
      "13222        Fri                 5.0\n"
     ]
    }
   ],
   "source": [
    "# Define the mapping of days to integers\n",
    "day_mapping = {'Mon': 1.0, 'Tue': 2.0, 'Wed': 3.0, 'Thu': 4.0, 'Fri': 5.0, 'Sat': 6.0, 'Sun': 7.0}\n",
    "\n",
    "# Map the 'flight_day' column using the day_mapping dictionary\n",
    "df['flight_day_encoded'] = df['flight_day'].map(day_mapping)\n",
    "\n",
    "# Verify that the encoding matches the defined mapping\n",
    "print(df[['flight_day', 'flight_day_encoded']].sample(6))\n"
   ]
  },
  {
   "cell_type": "markdown",
   "metadata": {},
   "source": [
    "Check time of the day and preferences"
   ]
  },
  {
   "cell_type": "code",
   "execution_count": 23,
   "metadata": {},
   "outputs": [
    {
     "data": {
      "text/plain": [
       "Index(['num_passengers', 'sales_channel', 'trip_type', 'flight_hour',\n",
       "       'flight_day', 'route', 'booking_origin', 'wants_extra_baggage',\n",
       "       'wants_preferred_seat', 'wants_in_flight_meals', 'flight_duration',\n",
       "       'booking_complete', 'purchase_lead_hours', 'length_of_stay_hours',\n",
       "       'flight_hour_sin', 'flight_hour_cos',\n",
       "       'wants_extra_baggage_and_preferred_seat',\n",
       "       'wants_meals_and_preferred_seat', 'wants_extra_baggage_and_meals',\n",
       "       'wants_all_services', 'wants_seat_and_meals_but_no_baggage',\n",
       "       'wants_baggage_and_meals_but_no_seat',\n",
       "       'wants_baggage_and_seat_but_no_meals', 'flight_day_encoded'],\n",
       "      dtype='object')"
      ]
     },
     "execution_count": 23,
     "metadata": {},
     "output_type": "execute_result"
    }
   ],
   "source": [
    "df.columns"
   ]
  },
  {
   "cell_type": "code",
   "execution_count": 25,
   "metadata": {},
   "outputs": [],
   "source": [
    "def categorize_time_of_day(time):\n",
    "    hour = int(time.split(':')[0])\n",
    "    if 6 <= hour < 12:\n",
    "        return 'Morning'\n",
    "    elif 12 <= hour < 18:\n",
    "        return 'Afternoon'\n",
    "    else:\n",
    "        return 'Evening'\n",
    "\n",
    "# Convert integer values to string representations of time\n",
    "df['flight_hour_str'] = df['flight_hour'].astype(str)\n",
    "\n",
    "# Apply categorize_time_of_day function\n",
    "df['time_of_day_preference'] = df['flight_hour_str'].apply(categorize_time_of_day)\n",
    "\n",
    "# Ordinal encoding\n",
    "time_of_day_mapping = {'Morning': 1, 'Afternoon': 2, 'Evening': 3}\n",
    "df['time_of_day_preference_encoded'] = df['time_of_day_preference'].map(time_of_day_mapping)\n",
    "\n",
    "# Drop after use\n",
    "df.drop(columns=['flight_hour_str'], inplace=True)"
   ]
  },
  {
   "cell_type": "code",
   "execution_count": 26,
   "metadata": {},
   "outputs": [],
   "source": [
    "# Create 'is_weekend_flight' feature based on 'flight_day'\n",
    "df['is_weekend_flight'] = df['flight_day_encoded'].apply(lambda x:  1 if x >=  6 else  0)"
   ]
  },
  {
   "cell_type": "code",
   "execution_count": 34,
   "metadata": {},
   "outputs": [
    {
     "data": {
      "text/plain": [
       "Index(['num_passengers', 'sales_channel', 'trip_type', 'flight_hour',\n",
       "       'flight_day', 'route', 'booking_origin', 'wants_extra_baggage',\n",
       "       'wants_preferred_seat', 'wants_in_flight_meals', 'flight_duration',\n",
       "       'booking_complete', 'purchase_lead_hours', 'length_of_stay_hours',\n",
       "       'flight_hour_sin', 'flight_hour_cos',\n",
       "       'wants_extra_baggage_and_preferred_seat',\n",
       "       'wants_meals_and_preferred_seat', 'wants_extra_baggage_and_meals',\n",
       "       'wants_all_services', 'wants_seat_and_meals_but_no_baggage',\n",
       "       'wants_baggage_and_meals_but_no_seat',\n",
       "       'wants_baggage_and_seat_but_no_meals', 'flight_day_encoded',\n",
       "       'time_of_day_preference', 'time_of_day_preference_encoded',\n",
       "       'is_weekend_flight'],\n",
       "      dtype='object')"
      ]
     },
     "execution_count": 34,
     "metadata": {},
     "output_type": "execute_result"
    }
   ],
   "source": [
    "df.columns"
   ]
  },
  {
   "cell_type": "code",
   "execution_count": 35,
   "metadata": {},
   "outputs": [
    {
     "name": "stderr",
     "output_type": "stream",
     "text": [
      "/home/lawi/.conda/envs/learn-env/lib/python3.10/site-packages/seaborn/_oldcore.py:1119: FutureWarning: use_inf_as_na option is deprecated and will be removed in a future version. Convert inf values to NaN before operating instead.\n",
      "  with pd.option_context('mode.use_inf_as_na', True):\n"
     ]
    },
    {
     "data": {
      "image/png": "[encoded data removed]",
      "text/plain": [
       "<Figure size 1000x600 with 1 Axes>"
      ]
     },
     "metadata": {},
     "output_type": "display_data"
    },
    {
     "name": "stderr",
     "output_type": "stream",
     "text": [
      "/home/lawi/.conda/envs/learn-env/lib/python3.10/site-packages/seaborn/_oldcore.py:1119: FutureWarning: use_inf_as_na option is deprecated and will be removed in a future version. Convert inf values to NaN before operating instead.\n",
      "  with pd.option_context('mode.use_inf_as_na', True):\n"
     ]
    },
    {
     "data": {
      "image/png": "[encoded data removed]",
      "text/plain": [
       "<Figure size 1000x600 with 1 Axes>"
      ]
     },
     "metadata": {},
     "output_type": "display_data"
    }
   ],
   "source": [
    "# Convert inf values to NaN before operating\n",
    "\n",
    "df['length_of_stay_hours'] = df['length_of_stay_hours'].replace([np.inf, -np.inf], np.nan)\n",
    "df['purchase_lead_hours'] = df['purchase_lead_hours'].replace([np.inf, -np.inf], np.nan)\n",
    "\n",
    "# Histogram for 'length_of_stay_hours'\n",
    "plt.figure(figsize=(10,   6))\n",
    "sns.histplot(data=df, x='length_of_stay_hours', kde=True)\n",
    "plt.title('Distribution of Length of Stay Hours')\n",
    "plt.show()\n",
    "\n",
    "# Histogram for 'purchase_lead_hours'\n",
    "plt.figure(figsize=(10,   6))\n",
    "sns.histplot(data=df, x='purchase_lead_hours', kde=True)\n",
    "plt.title('Distribution of Purchase Lead Hours')\n",
    "plt.show()"
   ]
  },
  {
   "cell_type": "markdown",
   "metadata": {},
   "source": [
    "Create buckets for 'length_of_stay_hours' and 'purchase_lead_hours' to categorize stays into short, medium, long, etc. This can help simplify the model and potentially reveal patterns related to stay durations.\n",
    "Create interaction terms between 'length_of_stay_hours' and 'purchase_lead_hours' to capture the combined effect of these two variables.\n",
    "Sometimes, the ratio of two variables can be informative.the ratio of the length of stay to the purchase lead time might indicate how quickly a customer books a flight relative to their stay duration.\n",
    "The difference between the two variables might also be a useful feature, especially if you're interested in how much time a customer spends on the website before making a booking compared to their actual stay."
   ]
  },
  {
   "cell_type": "code",
   "execution_count": 36,
   "metadata": {},
   "outputs": [],
   "source": [
    "df['length_of_stay_category'] = pd.cut(df['length_of_stay_hours'], bins=[0,  24,  48, np.inf], labels=['Short', 'Medium', 'Long'])\n",
    "df['purchase_lead_time_category'] = pd.cut(df['purchase_lead_hours'], bins=[0,  24,  48,  72, np.inf], labels=['Immediate', 'Within  24 Hours', 'Within  168 Hours', 'More Than  168 Hours'])\n",
    "# create interaction terms between 'length_of_stay_hours' and 'purchase_lead_hours' to capture the combined effect of these two variables.\n",
    "df['length_of_stay_times_purchase_lead'] = df['length_of_stay_hours'] * df['purchase_lead_hours']\n",
    "df['length_over_lead_ratio'] = df['length_of_stay_hours'] / df['purchase_lead_hours']\n",
    "df['length_minus_lead_diff'] = df['length_of_stay_hours'] - df['purchase_lead_hours']\n"
   ]
  },
  {
   "cell_type": "code",
   "execution_count": 37,
   "metadata": {},
   "outputs": [
    {
     "data": {
      "text/plain": [
       "Index(['num_passengers', 'sales_channel', 'trip_type', 'flight_hour',\n",
       "       'flight_day', 'route', 'booking_origin', 'wants_extra_baggage',\n",
       "       'wants_preferred_seat', 'wants_in_flight_meals', 'flight_duration',\n",
       "       'booking_complete', 'purchase_lead_hours', 'length_of_stay_hours',\n",
       "       'flight_hour_sin', 'flight_hour_cos',\n",
       "       'wants_extra_baggage_and_preferred_seat',\n",
       "       'wants_meals_and_preferred_seat', 'wants_extra_baggage_and_meals',\n",
       "       'wants_all_services', 'wants_seat_and_meals_but_no_baggage',\n",
       "       'wants_baggage_and_meals_but_no_seat',\n",
       "       'wants_baggage_and_seat_but_no_meals', 'flight_day_encoded',\n",
       "       'time_of_day_preference', 'time_of_day_preference_encoded',\n",
       "       'is_weekend_flight', 'length_of_stay_category',\n",
       "       'purchase_lead_time_category', 'length_of_stay_times_purchase_lead',\n",
       "       'length_over_lead_ratio', 'length_minus_lead_diff'],\n",
       "      dtype='object')"
      ]
     },
     "execution_count": 37,
     "metadata": {},
     "output_type": "execute_result"
    }
   ],
   "source": [
    "df.columns"
   ]
  },
  {
   "cell_type": "markdown",
   "metadata": {},
   "source": [
    "Attempting to analyse geographical data, route and country."
   ]
  },
  {
   "cell_type": "code",
   "execution_count": null,
   "metadata": {},
   "outputs": [],
   "source": []
  },
  {
   "cell_type": "markdown",
   "metadata": {},
   "source": [
    "combining 'booking_origin' and 'sales_channel' \n",
    "Analyze the relationship between the newly created feature and binary columns.\n",
    "Calculate summary statistics (e.g., mean, median) of binary columns for each category in the interaction feature."
   ]
  },
  {
   "cell_type": "code",
   "execution_count": 38,
   "metadata": {},
   "outputs": [],
   "source": [
    "# Concatenate 'booking_origin' and 'sales_channel' to form a new categorical feature\n",
    "df['booking_origin_sales_channel'] = df['booking_origin'] + \"_\" + df['sales_channel']"
   ]
  },
  {
   "cell_type": "code",
   "execution_count": 39,
   "metadata": {},
   "outputs": [
    {
     "data": {
      "text/plain": [
       "Index(['num_passengers', 'sales_channel', 'trip_type', 'flight_hour',\n",
       "       'flight_day', 'route', 'booking_origin', 'wants_extra_baggage',\n",
       "       'wants_preferred_seat', 'wants_in_flight_meals', 'flight_duration',\n",
       "       'booking_complete', 'purchase_lead_hours', 'length_of_stay_hours',\n",
       "       'flight_hour_sin', 'flight_hour_cos',\n",
       "       'wants_extra_baggage_and_preferred_seat',\n",
       "       'wants_meals_and_preferred_seat', 'wants_extra_baggage_and_meals',\n",
       "       'wants_all_services', 'wants_seat_and_meals_but_no_baggage',\n",
       "       'wants_baggage_and_meals_but_no_seat',\n",
       "       'wants_baggage_and_seat_but_no_meals', 'flight_day_encoded',\n",
       "       'time_of_day_preference', 'time_of_day_preference_encoded',\n",
       "       'is_weekend_flight', 'length_of_stay_category',\n",
       "       'purchase_lead_time_category', 'length_of_stay_times_purchase_lead',\n",
       "       'length_over_lead_ratio', 'length_minus_lead_diff',\n",
       "       'booking_origin_sales_channel'],\n",
       "      dtype='object')"
      ]
     },
     "execution_count": 39,
     "metadata": {},
     "output_type": "execute_result"
    }
   ],
   "source": [
    "df.columns"
   ]
  },
  {
   "cell_type": "code",
   "execution_count": 40,
   "metadata": {},
   "outputs": [],
   "source": [
    "# # Compare binary columns with the interaction feature\n",
    "# sns.barplot(x='booking_origin_sales_channel', y='wants_extra_baggage', data=df, estimator=sum)\n",
    "# plt.xticks(rotation=45)\n",
    "# plt.show()"
   ]
  },
  {
   "cell_type": "markdown",
   "metadata": {},
   "source": [
    "Perform statistical tests to determine if there are significant differences in binary column values across different categories of the interaction feature."
   ]
  },
  {
   "cell_type": "code",
   "execution_count": 48,
   "metadata": {},
   "outputs": [
    {
     "name": "stdout",
     "output_type": "stream",
     "text": [
      "Feature: wants_extra_baggage_and_preferred_seat\n",
      "Chi-squared test statistic: 899.3854256383029\n",
      "p-value: 2.259557644569116e-106\n",
      "\n",
      "Feature: wants_meals_and_preferred_seat\n",
      "Chi-squared test statistic: 922.7726504627188\n",
      "p-value: 1.2868658651831398e-110\n",
      "\n",
      "Feature: wants_extra_baggage_and_meals\n",
      "Chi-squared test statistic: 1268.5705149461444\n",
      "p-value: 2.315766935470825e-175\n",
      "\n",
      "Feature: wants_all_services\n",
      "Chi-squared test statistic: 888.0915761234003\n",
      "p-value: 2.4885386079982027e-104\n",
      "\n",
      "Feature: wants_seat_and_meals_but_no_baggage\n",
      "Chi-squared test statistic: 255.2996529541133\n",
      "p-value: 3.1132494555321056e-07\n",
      "\n",
      "Feature: wants_baggage_and_meals_but_no_seat\n",
      "Chi-squared test statistic: 673.321294324645\n",
      "p-value: 1.10646210512365e-66\n",
      "\n",
      "Feature: wants_baggage_and_seat_but_no_meals\n",
      "Chi-squared test statistic: 333.8086636626832\n",
      "p-value: 1.1488451956078909e-15\n",
      "\n",
      "Feature: wants_extra_baggage\n",
      "Chi-squared test statistic: 1352.6976490888924\n",
      "p-value: 1.5296284342716212e-191\n",
      "\n",
      "Feature: wants_preferred_seat\n",
      "Chi-squared test statistic: 1074.064999061617\n",
      "p-value: 1.5500868272437855e-138\n",
      "\n",
      "Feature: wants_in_flight_meals\n",
      "Chi-squared test statistic: 1318.6611093064128\n",
      "p-value: 5.5828556136711105e-185\n",
      "\n",
      "Feature: is_weekend_flight\n",
      "Chi-squared test statistic: 408.8457870737683\n",
      "p-value: 2.051123993031449e-25\n",
      "\n"
     ]
    }
   ],
   "source": [
    "from scipy.stats import chi2_contingency\n",
    "\n",
    "# List of features to compare with 'booking_origin_sales_channel'\n",
    "features_to_compare = [\n",
    "    'wants_extra_baggage_and_preferred_seat',\n",
    "    'wants_meals_and_preferred_seat',\n",
    "    'wants_extra_baggage_and_meals',\n",
    "    'wants_all_services',\n",
    "    'wants_seat_and_meals_but_no_baggage',\n",
    "    'wants_baggage_and_meals_but_no_seat',\n",
    "    'wants_baggage_and_seat_but_no_meals',\n",
    "    'wants_extra_baggage',\n",
    "    'wants_preferred_seat',\n",
    "    'wants_in_flight_meals',\n",
    "    'is_weekend_flight'\n",
    "]\n",
    "\n",
    "# Perform chi-squared test for independence\n",
    "\n",
    "for feature in features_to_compare:\n",
    "    contingency_table = pd.crosstab(df['booking_origin_sales_channel'], df[feature])\n",
    "    chi2, p, _, _ = chi2_contingency(contingency_table)\n",
    "    print(f\"Feature: {feature}\\nChi-squared test statistic: {chi2}\\np-value: {p}\\n\")\n"
   ]
  },
  {
   "cell_type": "markdown",
   "metadata": {},
   "source": [
    "p-value of less than or equal to 0.05 is considered evidence of a statistically significant result. These results suggest strong evidence of associations between different preferences for airline services and features such as extra baggage, preferred seat, and in-flight meals. The low p-values indicate that these associations are unlikely to be due to random chance. Additionally, the chi-squared test statistics quantify the strength of these associations."
   ]
  },
  {
   "cell_type": "markdown",
   "metadata": {},
   "source": [
    "## CATEGORICAL ENCODING"
   ]
  },
  {
   "cell_type": "markdown",
   "metadata": {},
   "source": [
    "One hot encoding `sales_channel` and `trip_type` because they have a small number of unique values"
   ]
  },
  {
   "cell_type": "code",
   "execution_count": 49,
   "metadata": {},
   "outputs": [],
   "source": [
    "# Perform one-hot encoding and concatenate the result with the original DataFrame\n",
    "one_hot_df = pd.get_dummies(df, columns=['sales_channel', 'trip_type'])\n",
    "# Drop the original columns\n",
    "# df = df.drop(['sales_channel', 'trip_type'], axis=1)\n",
    "# Merge\n",
    "df = pd.concat([df, one_hot_df], axis=1)\n"
   ]
  },
  {
   "cell_type": "markdown",
   "metadata": {},
   "source": [
    "Two binary columns for `sales_channel_Internet` and `sales_channel_Mobile` "
   ]
  },
  {
   "cell_type": "code",
   "execution_count": 50,
   "metadata": {},
   "outputs": [],
   "source": [
    "# Create new binary columns based on the 'sales_channel' column\n",
    "df['sales_channel_Internet'] = df['sales_channel'].apply(lambda x:  1 if x == 'Internet' else  0)\n",
    "df['sales_channel_Mobile'] = df['sales_channel'].apply(lambda x:  1 if x == 'Mobile' else  0)\n",
    "\n",
    "# Optionally, you can drop the original 'sales_channel' column if you no longer need it\n",
    "# df = df.drop('sales_channel', axis=1)"
   ]
  },
  {
   "cell_type": "code",
   "execution_count": 57,
   "metadata": {},
   "outputs": [
    {
     "data": {
      "text/html": [
       "<div>\n",
       "<style scoped>\n",
       "    .dataframe tbody tr th:only-of-type {\n",
       "        vertical-align: middle;\n",
       "    }\n",
       "\n",
       "    .dataframe tbody tr th {\n",
       "        vertical-align: top;\n",
       "    }\n",
       "\n",
       "    .dataframe thead th {\n",
       "        text-align: right;\n",
       "    }\n",
       "</style>\n",
       "<table border=\"1\" class=\"dataframe\">\n",
       "  <thead>\n",
       "    <tr style=\"text-align: right;\">\n",
       "      <th></th>\n",
       "      <th>num_passengers</th>\n",
       "      <th>sales_channel</th>\n",
       "      <th>trip_type</th>\n",
       "      <th>flight_hour</th>\n",
       "      <th>flight_day</th>\n",
       "      <th>route</th>\n",
       "      <th>booking_origin</th>\n",
       "      <th>wants_extra_baggage</th>\n",
       "      <th>wants_preferred_seat</th>\n",
       "      <th>wants_in_flight_meals</th>\n",
       "      <th>...</th>\n",
       "      <th>purchase_lead_time_category</th>\n",
       "      <th>length_of_stay_times_purchase_lead</th>\n",
       "      <th>length_over_lead_ratio</th>\n",
       "      <th>length_minus_lead_diff</th>\n",
       "      <th>booking_origin_sales_channel</th>\n",
       "      <th>sales_channel_Internet</th>\n",
       "      <th>sales_channel_Mobile</th>\n",
       "      <th>trip_type_CircleTrip</th>\n",
       "      <th>trip_type_OneWay</th>\n",
       "      <th>trip_type_RoundTrip</th>\n",
       "    </tr>\n",
       "  </thead>\n",
       "  <tbody>\n",
       "    <tr>\n",
       "      <th>46423</th>\n",
       "      <td>3</td>\n",
       "      <td>Mobile</td>\n",
       "      <td>RoundTrip</td>\n",
       "      <td>1</td>\n",
       "      <td>Fri</td>\n",
       "      <td>HKTPEK</td>\n",
       "      <td>China</td>\n",
       "      <td>True</td>\n",
       "      <td>True</td>\n",
       "      <td>False</td>\n",
       "      <td>...</td>\n",
       "      <td>Immediate</td>\n",
       "      <td>0.000374</td>\n",
       "      <td>0.159199</td>\n",
       "      <td>-0.040731</td>\n",
       "      <td>China_Mobile</td>\n",
       "      <td>0</td>\n",
       "      <td>1</td>\n",
       "      <td>False</td>\n",
       "      <td>False</td>\n",
       "      <td>True</td>\n",
       "    </tr>\n",
       "  </tbody>\n",
       "</table>\n",
       "<p>1 rows × 69 columns</p>\n",
       "</div>"
      ],
      "text/plain": [
       "       num_passengers sales_channel  trip_type  flight_hour flight_day  \\\n",
       "46423               3        Mobile  RoundTrip            1        Fri   \n",
       "\n",
       "        route booking_origin  wants_extra_baggage  wants_preferred_seat  \\\n",
       "46423  HKTPEK          China                 True                  True   \n",
       "\n",
       "       wants_in_flight_meals  ...  purchase_lead_time_category  \\\n",
       "46423                  False  ...                    Immediate   \n",
       "\n",
       "       length_of_stay_times_purchase_lead  length_over_lead_ratio  \\\n",
       "46423                            0.000374                0.159199   \n",
       "\n",
       "       length_minus_lead_diff  booking_origin_sales_channel  \\\n",
       "46423               -0.040731                  China_Mobile   \n",
       "\n",
       "       sales_channel_Internet  sales_channel_Mobile  trip_type_CircleTrip  \\\n",
       "46423                       0                     1                 False   \n",
       "\n",
       "       trip_type_OneWay  trip_type_RoundTrip  \n",
       "46423             False                 True  \n",
       "\n",
       "[1 rows x 69 columns]"
      ]
     },
     "execution_count": 57,
     "metadata": {},
     "output_type": "execute_result"
    }
   ],
   "source": [
    "df.sample()\n"
   ]
  },
  {
   "cell_type": "markdown",
   "metadata": {},
   "source": [
    "Three binary columns for `trip_type_RoundTrip`, `trip_type_CircleTrip`, and `trip_type_OneWay`"
   ]
  },
  {
   "cell_type": "code",
   "execution_count": null,
   "metadata": {},
   "outputs": [],
   "source": [
    "# Create new binary columns based on the 'trip_type' column\n",
    "df['trip_type_RoundTrip'] = df['trip_type'].apply(lambda x:   1 if x == 'RoundTrip' else   0)\n",
    "df['trip_type_CircleTrip'] = df['trip_type'].apply(lambda x:   1 if x == 'CircleTrip' else   0)\n",
    "df['trip_type_OneWay'] = df['trip_type'].apply(lambda x:   1 if x == 'OneWay' else   0)\n",
    "\n",
    "# Optionally, you can drop the original 'trip_type' column if you no longer need it\n",
    "# df = df.drop('trip_type', axis=1)"
   ]
  },
  {
   "cell_type": "markdown",
   "metadata": {},
   "source": [
    "Ordinal encoding `flight_day` to preserve the notion of progression in days of the week. "
   ]
  },
  {
   "cell_type": "code",
   "execution_count": null,
   "metadata": {},
   "outputs": [],
   "source": []
  },
  {
   "cell_type": "markdown",
   "metadata": {},
   "source": [
    "Since 'route' and 'booking_origin' have a large number of unique values (799 and 104, respectively), traditional one-hot encoding might lead to a high-dimensional sparse matrix, which can be inefficient and prone to overfitting. One approach is to use hashing encoding, which maps each category to a fixed number of bins, reducing the dimensionality of the encoded features.\n",
    "Another option is target encoding, where each category is replaced with the mean of the target variable (e.g., average booking rate) for that category. This can help capture the relationship between the categorical variable and the target variable.\n",
    "\n",
    "Hashing Encoding:\n",
    "\n",
    "Pros:\n",
    "Reduces dimensionality significantly, especially for high-cardinality categorical features.\n",
    "Can handle a large number of categories without creating a sparse matrix.\n",
    "\n",
    "Cons:\n",
    "Loses the ability to interpret the encoded features directly.\n",
    "The hash function may introduce collisions, leading to loss of information.\n",
    "\n",
    "Target Encoding:\n",
    "\n",
    "Pros:\n",
    "Captures the relationship between the categorical variable and the target variable.\n",
    "Can improve model performance by incorporating domain knowledge.\n",
    "\n",
    "Cons:\n",
    "May lead to overfitting if not done carefully (e.g., using too many bins or leaking information).\n",
    "Not suitable for time series data or when the target distribution changes over time."
   ]
  },
  {
   "cell_type": "code",
   "execution_count": null,
   "metadata": {},
   "outputs": [],
   "source": [
    "from sklearn.feature_extraction import FeatureHasher\n",
    "\n",
    "# Assuming df is your DataFrame\n",
    "# Initialize the FeatureHasher with the desired number of features after hashing\n",
    "hasher = FeatureHasher(n_features=70, input_type='string')\n",
    "\n",
    "# Fit and transform the 'route' column\n",
    "hashed_features = hasher.transform(df['route'])\n",
    "\n",
    "# Convert the hashed features to a DataFrame and concatenate with the original DataFrame\n",
    "hashed_df = pd.DataFrame(hashed_features.toarray(), columns=[f'route_{i}' for i in range(hasher.n_features_)])\n",
    "df = pd.concat([df, hashed_df], axis=1)\n",
    "\n",
    "# Optionally, you can drop the original 'route' column if you no longer need it\n",
    "# df = df.drop('route', axis=1)\n"
   ]
  },
  {
   "cell_type": "markdown",
   "metadata": {},
   "source": [
    "SEGMENTATION ANALYSIS\n",
    "\n",
    "Conduct segmentation analysis to identify subgroups of customers based on the interaction feature and binary columns.\n",
    "Use clustering algorithms or demographic characteristics to segment customers.\n",
    "Analyze differences in preferences and behaviors between segments."
   ]
  },
  {
   "cell_type": "code",
   "execution_count": null,
   "metadata": {},
   "outputs": [],
   "source": [
    "from sklearn.cluster import KMeans\n",
    "\n",
    "# Perform clustering\n",
    "kmeans = KMeans(n_clusters=3)\n",
    "df['cluster'] = kmeans.fit_predict(df[['booking_origin_sales_channel', other_features]])\n",
    "\n",
    "# Analyze differences between clusters\n",
    "cluster_means = df.groupby('cluster').mean()\n"
   ]
  },
  {
   "cell_type": "markdown",
   "metadata": {},
   "source": [
    "FEATURE SELECTION"
   ]
  },
  {
   "cell_type": "markdown",
   "metadata": {},
   "source": [
    "## posible models\n",
    "\n",
    "Logistic Regression: A simple and interpretable model suitable for binary classification tasks.\n",
    "Random Forest Classifier: A powerful ensemble learning method capable of handling non-linear relationships and interactions between features.\n",
    "Gradient Boosting Classifier XGBoost: sequentially builds multiple weak learners to improve model performance.\n",
    "\n"
   ]
  },
  {
   "cell_type": "markdown",
   "metadata": {},
   "source": []
  },
  {
   "cell_type": "markdown",
   "metadata": {},
   "source": []
  }
 ],
 "metadata": {
  "kernelspec": {
   "display_name": "learn-env",
   "language": "python",
   "name": "python3"
  },
  "language_info": {
   "codemirror_mode": {
    "name": "ipython",
    "version": 3
   },
   "file_extension": ".py",
   "mimetype": "text/x-python",
   "name": "python",
   "nbconvert_exporter": "python",
   "pygments_lexer": "ipython3",
   "version": "3.10.13"
  }
 },
 "nbformat": 4,
 "nbformat_minor": 2
}
